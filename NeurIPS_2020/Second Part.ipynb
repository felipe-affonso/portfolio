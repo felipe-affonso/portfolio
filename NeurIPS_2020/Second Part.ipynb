{
 "cells": [
  {
   "cell_type": "code",
   "execution_count": 11,
   "metadata": {},
   "outputs": [],
   "source": [
    "import pandas as pd\n",
    "import numpy as np\n",
    "import nltk\n",
    "from sklearn import feature_extraction\n",
    "import re"
   ]
  },
  {
   "cell_type": "code",
   "execution_count": 6,
   "metadata": {},
   "outputs": [],
   "source": [
    "df = pd.read_csv('NeurIPS2020.csv')"
   ]
  },
  {
   "cell_type": "code",
   "execution_count": 7,
   "metadata": {},
   "outputs": [
    {
     "data": {
      "text/html": [
       "<div>\n",
       "<style scoped>\n",
       "    .dataframe tbody tr th:only-of-type {\n",
       "        vertical-align: middle;\n",
       "    }\n",
       "\n",
       "    .dataframe tbody tr th {\n",
       "        vertical-align: top;\n",
       "    }\n",
       "\n",
       "    .dataframe thead th {\n",
       "        text-align: right;\n",
       "    }\n",
       "</style>\n",
       "<table border=\"1\" class=\"dataframe\">\n",
       "  <thead>\n",
       "    <tr style=\"text-align: right;\">\n",
       "      <th></th>\n",
       "      <th>Unnamed: 0</th>\n",
       "      <th>Title</th>\n",
       "      <th>Author</th>\n",
       "      <th>URL</th>\n",
       "      <th>Abstract</th>\n",
       "    </tr>\n",
       "  </thead>\n",
       "  <tbody>\n",
       "    <tr>\n",
       "      <th>0</th>\n",
       "      <td>0</td>\n",
       "      <td>A graph similarity for deep learning</td>\n",
       "      <td>Seongmin Ok</td>\n",
       "      <td>/paper/2020/hash/0004d0b59e19461ff126e3a08a814...</td>\n",
       "      <td>Graph neural networks (GNNs) have been success...</td>\n",
       "    </tr>\n",
       "    <tr>\n",
       "      <th>1</th>\n",
       "      <td>1</td>\n",
       "      <td>An Unsupervised Information-Theoretic Perceptu...</td>\n",
       "      <td>Sangnie Bhardwaj, Ian Fischer, Johannes Ballé,...</td>\n",
       "      <td>/paper/2020/hash/00482b9bed15a272730fcb590ffeb...</td>\n",
       "      <td>Tractable models of human perception have prov...</td>\n",
       "    </tr>\n",
       "    <tr>\n",
       "      <th>2</th>\n",
       "      <td>2</td>\n",
       "      <td>Self-Supervised MultiModal Versatile Networks</td>\n",
       "      <td>Jean-Baptiste Alayrac, Adria Recasens, Rosalia...</td>\n",
       "      <td>/paper/2020/hash/0060ef47b12160b9198302ebdb144...</td>\n",
       "      <td>Videos are a rich source of multi-modal superv...</td>\n",
       "    </tr>\n",
       "    <tr>\n",
       "      <th>3</th>\n",
       "      <td>3</td>\n",
       "      <td>Benchmarking Deep Inverse Models over time, an...</td>\n",
       "      <td>Simiao Ren, Willie Padilla, Jordan Malof</td>\n",
       "      <td>/paper/2020/hash/007ff380ee5ac49ffc34442f5c2a2...</td>\n",
       "      <td>We consider the task of solving generic invers...</td>\n",
       "    </tr>\n",
       "    <tr>\n",
       "      <th>4</th>\n",
       "      <td>4</td>\n",
       "      <td>Off-Policy Evaluation and Learning for Externa...</td>\n",
       "      <td>Masatoshi Uehara, Masahiro Kato, Shota Yasui</td>\n",
       "      <td>/paper/2020/hash/0084ae4bc24c0795d1e6a4f58444d...</td>\n",
       "      <td>We consider the evaluation and training of a n...</td>\n",
       "    </tr>\n",
       "  </tbody>\n",
       "</table>\n",
       "</div>"
      ],
      "text/plain": [
       "   Unnamed: 0                                              Title  \\\n",
       "0           0              A graph similarity for deep learning    \n",
       "1           1  An Unsupervised Information-Theoretic Perceptu...   \n",
       "2           2     Self-Supervised MultiModal Versatile Networks    \n",
       "3           3  Benchmarking Deep Inverse Models over time, an...   \n",
       "4           4  Off-Policy Evaluation and Learning for Externa...   \n",
       "\n",
       "                                              Author  \\\n",
       "0                                        Seongmin Ok   \n",
       "1  Sangnie Bhardwaj, Ian Fischer, Johannes Ballé,...   \n",
       "2  Jean-Baptiste Alayrac, Adria Recasens, Rosalia...   \n",
       "3           Simiao Ren, Willie Padilla, Jordan Malof   \n",
       "4       Masatoshi Uehara, Masahiro Kato, Shota Yasui   \n",
       "\n",
       "                                                 URL  \\\n",
       "0  /paper/2020/hash/0004d0b59e19461ff126e3a08a814...   \n",
       "1  /paper/2020/hash/00482b9bed15a272730fcb590ffeb...   \n",
       "2  /paper/2020/hash/0060ef47b12160b9198302ebdb144...   \n",
       "3  /paper/2020/hash/007ff380ee5ac49ffc34442f5c2a2...   \n",
       "4  /paper/2020/hash/0084ae4bc24c0795d1e6a4f58444d...   \n",
       "\n",
       "                                            Abstract  \n",
       "0  Graph neural networks (GNNs) have been success...  \n",
       "1  Tractable models of human perception have prov...  \n",
       "2  Videos are a rich source of multi-modal superv...  \n",
       "3  We consider the task of solving generic invers...  \n",
       "4  We consider the evaluation and training of a n...  "
      ]
     },
     "execution_count": 7,
     "metadata": {},
     "output_type": "execute_result"
    }
   ],
   "source": [
    "df.head()"
   ]
  },
  {
   "cell_type": "code",
   "execution_count": 10,
   "metadata": {},
   "outputs": [],
   "source": [
    "#getting just the abstracts\n",
    "df_ab = list(df['Abstract'])"
   ]
  },
  {
   "cell_type": "code",
   "execution_count": 13,
   "metadata": {},
   "outputs": [],
   "source": [
    "#removing stopwords / steamming / tokenizing\n",
    "from nltk.stem.snowball import SnowballStemmer\n",
    "stopwords = nltk.corpus.stopwords.words('english')\n",
    "stemmer = SnowballStemmer(\"english\")\n",
    "\n",
    "\n",
    "def tokenize_stem(text):\n",
    "    tokens = [word for s in nltk.sent_tokenize(text) for word in nltk.work_tokenize(sent)]\n",
    "    filtered_tokens = []\n",
    "    for token in tokens:\n",
    "        if re.search('[a-zA-Z]', token):\n",
    "            filtered_tokens.append(token)\n",
    "    stems = [stemmer.stem(t) for t in filtered_tokens]\n",
    "    return stems\n",
    "\n"
   ]
  },
  {
   "cell_type": "code",
   "execution_count": null,
   "metadata": {},
   "outputs": [],
   "source": []
  }
 ],
 "metadata": {
  "kernelspec": {
   "display_name": "Python 3",
   "language": "python",
   "name": "python3"
  },
  "language_info": {
   "codemirror_mode": {
    "name": "ipython",
    "version": 3
   },
   "file_extension": ".py",
   "mimetype": "text/x-python",
   "name": "python",
   "nbconvert_exporter": "python",
   "pygments_lexer": "ipython3",
   "version": "3.7.6"
  }
 },
 "nbformat": 4,
 "nbformat_minor": 4
}
